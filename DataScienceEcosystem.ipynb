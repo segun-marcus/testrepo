{
 "cells": [
  {
   "cell_type": "markdown",
   "metadata": {},
   "source": [
    "<center>\n",
    "    <img src=\"https://cf-courses-data.s3.us.cloud-object-storage.appdomain.cloud/IBMDeveloperSkillsNetwork-DS0105EN-SkillsNetwork/labs/Module2/images/SN_web_lightmode.png\" width=\"300\" alt=\"cognitiveclass.ai logo\">\n",
    "</center>\n"
   ]
  },
  {
   "cell_type": "markdown",
   "metadata": {},
   "source": [
    "# Data Science Tools and Ecosystem"
   ]
  },
  {
   "cell_type": "markdown",
   "metadata": {},
   "source": [
    "In this notebook, Data Science Tools and Ecosystem are summarized as follows;\n",
    "\n",
    "Data science encompasses a rich landscape of tools and technologies that empower professionals to extract insights from data. From programming languages like Python and R, to visualization libraries, machine learning frameworks, and big data tools, this ecosystem provides the foundation for data-driven decision-making and innovation."
   ]
  },
  {
   "cell_type": "markdown",
   "metadata": {},
   "source": [
    "### Data science relies on several programming languages to analyze, visualize, and model data. Here are some key ones:\n",
    "\n",
    "- Python:\n",
    "Widely used for data manipulation, analysis, and visualization.\n",
    "Extensive libraries like NumPy, Pandas, and Matplotlib make it a go-to choice.\n",
    "Strong support for machine learning with Scikit-Learn, PyTorch, and TensorFlow1.\n",
    "\n",
    "- R:\n",
    "Ideal for statistical analysis and data mining.\n",
    "Packages like tidyverse (including ggplot2) simplify data manipulation and visualization1.\n",
    "\n",
    "- SQL:\n",
    "Essential for querying databases and managing data.\n",
    "Used to extract insights from structured data1.\n",
    "\n",
    "- Java:\n",
    "Robust and versatile.\n",
    "Often employed for big data processing and distributed computing2.\n",
    "\n",
    "- Scala:\n",
    "Runs on the Java Virtual Machine (JVM).\n",
    "Popular for scalable data processing using tools like Apache Spark2.\n",
    "\n",
    "- Julia:\n",
    "Designed for high-performance numerical computing.\n",
    "Gaining traction in data science due to its speed and ease of use.\n",
    "\n",
    "--\n",
    "\n",
    "Remember, the best language depends on your specific tasks and preferences."
   ]
  },
  {
   "cell_type": "markdown",
   "metadata": {},
   "source": [
    "# Here are some essential Python libraries for data science:\n",
    "\n",
    "**NumPy:**\n",
    "- Used for scientific computation, linear algebra, and multidimensional data manipulation.\n",
    "- Lightning-speed computation and efficient memory usage.\n",
    "- GitHub Stars: 25K | Total Downloads: 2.4 billion 1.\n",
    "\n",
    "**Pandas:**\n",
    "- Ideal for data analysis, manipulation, and cleaning.\n",
    "- Features DataFrames for efficient data handling.\n",
    "- Enables reading and writing data in various formats.\n",
    "- GitHub Stars: 30K+ 1.\n",
    "\n",
    "**Scikit-Learn (sklearn):**\n",
    "- Essential for machine learning tasks.\n",
    "- Provides algorithms for classification, regression, clustering, and more.\n",
    "- GitHub Stars: 40K+ 1.\n",
    "\n",
    "**Matplotlib:**\n",
    "- Widely used for data visualization.\n",
    "- Creates plots, charts, and graphs.\n",
    "- GitHub Stars: 11K+ 1.\n",
    "\n",
    "**Seaborn:**\n",
    "- Built on Matplotlib, focuses on statistical visualization.\n",
    "- Simplifies complex visualizations.\n",
    "- GitHub Stars: 10K+ 1.\n",
    "\n",
    "**TensorFlow:**\n",
    "- Developed by Google, used for deep learning and neural networks.\n",
    "- Supports both CPU and GPU computation.\n",
    "- GitHub Stars: 160K+ 1.\n",
    "\n",
    "**Keras:**\n",
    "- High-level neural networks API.\n",
    "- Runs on top of TensorFlow or Theano.\n",
    "- GitHub Stars: 52K+ 1.\n",
    "\n",
    "**SciPy:**\n",
    "- Extends NumPy with additional functionality.\n",
    "- Includes optimization, integration, interpolation, and more.\n",
    "- GitHub Stars: 12K+ 1.\n",
    "\n",
    "**Statsmodels:**\n",
    "- Focuses on statistical modeling and hypothesis testing.\n",
    "- Useful for regression, ANOVA, and time series analysis.\n",
    "- GitHub Stars: 6K+ 1.\n",
    "\n",
    "**NLTK (Natural Language Toolkit):**\n",
    "- For natural language processing (NLP) tasks.\n",
    "- Tokenization, stemming, part-of-speech tagging, and more.\n",
    "- GitHub Stars: 14K+ 1.m"
   ]
  },
  {
   "cell_type": "markdown",
   "metadata": {},
   "source": [
    "|**Data Science Tools**                                                                     |\n",
    "|-------------------------------------------------------------------------------------------|\n",
    "|- PythonWidely  - used for data analysis, processing, and machine learning.                |\n",
    "|- R Programming - Popular among statisticians and data scientists for statistical analysis.|\n",
    "|- SQL           - Query language for data manipulation and retrieval from databases.       |\n",
    "|- Java          - Used for big data processing and distributed computing.                  |\n",
    "|- Apache Spark  - Scalable data processing framework.                                      |\n",
    "|- TensorFlow    - Developed by Google for deep learning and neural networks.               |\n",
    "|- Git           - Version control system for collaborative development.                    |\n"
   ]
  },
  {
   "cell_type": "markdown",
   "metadata": {},
   "source": [
    "### Below are a few examples of evaluating arithmetic expressions in Python\n",
    "\n",
    "\n",
    "##### Addition:\n",
    "\n",
    "- The sum of 5 and 3 is 5+3=8\n",
    "\n",
    "##### Subtraction:\n",
    "\n",
    "- If you subtract 3 from 10, you get 10−3=7\n",
    "\n",
    "##### Multiplication:\n",
    "\n",
    "- When you multiply 4 by 6, the result is 4×6=24\n",
    "\n",
    "##### Division:\n",
    "\n",
    "- Divide 15 by 3 to get 315​=5\n",
    "\n",
    "##### Exponents:\n",
    "\n",
    "- If you raise 2 to the power of 4, you get 24=16"
   ]
  },
  {
   "cell_type": "code",
   "execution_count": 1,
   "metadata": {
    "tags": []
   },
   "outputs": [
    {
     "data": {
      "text/plain": [
       "17"
      ]
     },
     "execution_count": 1,
     "metadata": {},
     "output_type": "execute_result"
    }
   ],
   "source": [
    "#This a simple arithmetic expression to mutiply then add integers\n",
    "\n",
    "(3*4)+5"
   ]
  },
  {
   "cell_type": "code",
   "execution_count": 2,
   "metadata": {
    "tags": []
   },
   "outputs": [
    {
     "name": "stdout",
     "output_type": "stream",
     "text": [
      "200 minutes is approximately 3 hours and 20 minutes.\n"
     ]
    }
   ],
   "source": [
    "# This will convert 200 minutes to hours by diving by 60\n",
    "\n",
    "minutes = 200\n",
    "hours = minutes // 60  # Integer division\n",
    "remaining_minutes = minutes % 60\n",
    "\n",
    "print(f\"{minutes} minutes is approximately {hours} hours and {remaining_minutes} minutes.\")\n"
   ]
  },
  {
   "cell_type": "markdown",
   "metadata": {},
   "source": [
    "## Objectives\n",
    "\n",
    "Data science tools serve as the foundation for extracting, processing, analyzing, and visualizing data. They provide data scientists with the necessary instruments to uncover patterns, make predictions, and derive actionable insights. \n",
    "\n",
    "Let’s delve deeper into their significance:\n",
    "\n",
    "- Data Collection and Storage\n",
    "\n",
    "- Data Preparation:\n",
    "\n",
    "- Exploration and Visualization:\n",
    "\n",
    "- Model Building and Training:\n",
    "\n",
    "- Deployment and Monitoring:\n",
    "\n",
    "- Collaboration and Communication:\n",
    "\n",
    "- Interpretability and Explainability:\n"
   ]
  },
  {
   "cell_type": "markdown",
   "metadata": {},
   "source": [
    "## Author\n",
    "Olusegun Gabriel Marcus"
   ]
  },
  {
   "cell_type": "code",
   "execution_count": null,
   "metadata": {},
   "outputs": [],
   "source": []
  }
 ],
 "metadata": {
  "kernelspec": {
   "display_name": "Python",
   "language": "python",
   "name": "conda-env-python-py"
  },
  "language_info": {
   "codemirror_mode": {
    "name": "ipython",
    "version": 3
   },
   "file_extension": ".py",
   "mimetype": "text/x-python",
   "name": "python",
   "nbconvert_exporter": "python",
   "pygments_lexer": "ipython3",
   "version": "3.7.12"
  }
 },
 "nbformat": 4,
 "nbformat_minor": 4
}
